{
 "cells": [
  {
   "cell_type": "code",
   "execution_count": 41,
   "id": "68795b36-1fbb-4385-b4ef-08a10ffffe6e",
   "metadata": {
    "scrolled": true
   },
   "outputs": [
    {
     "name": "stdout",
     "output_type": "stream",
     "text": [
      "1874: https://se-demo.domino.tech/experiments/nick_goble/Model-Uploader/1874\n"
     ]
    }
   ],
   "source": [
    "import os\n",
    "from mlflow.tracking import MlflowClient\n",
    "\n",
    "client = MlflowClient()\n",
    "\n",
    "project_id = \"68ffd5760a3f90225564d4c3\"\n",
    "experiments = client.search_experiments(\n",
    "    filter_string=f\"tags.`mlflow.domino.project_id` = '{project_id}'\"\n",
    ")\n",
    "\n",
    "base_url = \"https://se-demo.domino.tech\"\n",
    "for exp in experiments:\n",
    "    exp_id = exp.experiment_id\n",
    "    exp_name = exp.name\n",
    "    \n",
    "    # Tags are already a dict\n",
    "    tags = exp.tags if hasattr(exp, 'tags') else {}\n",
    "    owner = tags.get(\"mlflow.domino.user\", \"\")\n",
    "    project_name = tags.get(\"mlflow.domino.project_name\", \"\")\n",
    "    \n",
    "    if owner and project_name:\n",
    "        url = f\"{base_url}/experiments/{owner}/{project_name}/{exp_id}\"\n",
    "        print(f\"{exp_id}: {url}\")\n",
    "    else:\n",
    "        print(f\"Experiment {exp_id} ({exp_name}): missing owner or project_name\")\n",
    "        print(f\"  Available tags: {list(tags.keys())}\")"
   ]
  },
  {
   "cell_type": "code",
   "execution_count": null,
   "id": "c2ccc283-5d69-4aff-bee5-08f918b3e8af",
   "metadata": {},
   "outputs": [],
   "source": []
  }
 ],
 "metadata": {
  "kernelspec": {
   "display_name": "Python 3 (ipykernel)",
   "language": "python",
   "name": "python3"
  },
  "language_info": {
   "codemirror_mode": {
    "name": "ipython",
    "version": 3
   },
   "file_extension": ".py",
   "mimetype": "text/x-python",
   "name": "python",
   "nbconvert_exporter": "python",
   "pygments_lexer": "ipython3",
   "version": "3.10.14"
  }
 },
 "nbformat": 4,
 "nbformat_minor": 5
}
