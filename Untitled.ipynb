{
 "cells": [
  {
   "cell_type": "code",
   "execution_count": null,
   "id": "8e7eee17-ed26-4af9-a89d-0a960c9047f8",
   "metadata": {},
   "outputs": [],
   "source": []
  },
  {
   "cell_type": "code",
   "execution_count": 4,
   "id": "eface90f-0f1e-4882-9282-e31fe34b27a8",
   "metadata": {},
   "outputs": [
    {
     "name": "stdout",
     "output_type": "stream",
     "text": [
      "['abcde', 'rdfed']\n",
      "['abcde', 'rdfed']\n",
      "<class 'list'>\n"
     ]
    }
   ],
   "source": [
    "a = \"abcde, rdfed\"\n",
    "a = \"abcde, rdfed\"\n",
    "real_list = [s.strip() for s in a.split(',')]\n",
    "print(real_list)  # ['abcde', 'rdfed']\n"
   ]
  },
  {
   "cell_type": "code",
   "execution_count": 5,
   "id": "e0d1c427-5ace-4cdf-8fb5-19cf835e548c",
   "metadata": {},
   "outputs": [
    {
     "ename": "NameError",
     "evalue": "name 'os' is not defined",
     "output_type": "error",
     "traceback": [
      "\u001b[0;31m---------------------------------------------------------------------------\u001b[0m",
      "\u001b[0;31mNameError\u001b[0m                                 Traceback (most recent call last)",
      "Cell \u001b[0;32mIn[5], line 1\u001b[0m\n\u001b[0;32m----> 1\u001b[0m project \u001b[38;5;241m=\u001b[39m \u001b[43mos\u001b[49m\u001b[38;5;241m.\u001b[39menviron\u001b[38;5;241m.\u001b[39mget(\u001b[38;5;124m\"\u001b[39m\u001b[38;5;124mDOMINO_PROJECT_ID\u001b[39m\u001b[38;5;124m\"\u001b[39m) \u001b[38;5;129;01mor\u001b[39;00m short_fallback()\n",
      "\u001b[0;31mNameError\u001b[0m: name 'os' is not defined"
     ]
    }
   ],
   "source": [
    "    project = os.environ.get(\"DOMINO_PROJECT_ID\") or short_fallback()\n"
   ]
  },
  {
   "cell_type": "code",
   "execution_count": 7,
   "id": "ff8892e6-73af-4e9b-ada7-d31333b0d569",
   "metadata": {},
   "outputs": [
    {
     "data": {
      "text/plain": [
       "'68ffd5760a3f90225564d4c3'"
      ]
     },
     "execution_count": 7,
     "metadata": {},
     "output_type": "execute_result"
    }
   ],
   "source": [
    "import os\n",
    "project = os.environ.get(\"DOMINO_PROJECT_ID\") or short_fallback()\n",
    "\n",
    "project"
   ]
  },
  {
   "cell_type": "code",
   "execution_count": null,
   "id": "8748bc07-9480-4d8b-a4c6-26609bf1007d",
   "metadata": {},
   "outputs": [],
   "source": []
  }
 ],
 "metadata": {
  "kernelspec": {
   "display_name": "Python 3 (ipykernel)",
   "language": "python",
   "name": "python3"
  },
  "language_info": {
   "codemirror_mode": {
    "name": "ipython",
    "version": 3
   },
   "file_extension": ".py",
   "mimetype": "text/x-python",
   "name": "python",
   "nbconvert_exporter": "python",
   "pygments_lexer": "ipython3",
   "version": "3.10.14"
  }
 },
 "nbformat": 4,
 "nbformat_minor": 5
}
